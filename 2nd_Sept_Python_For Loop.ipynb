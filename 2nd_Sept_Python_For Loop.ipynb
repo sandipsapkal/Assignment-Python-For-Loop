{
 "cells": [
  {
   "cell_type": "code",
   "execution_count": null,
   "id": "590f1d4c-7608-4062-aedd-90e33647f6c8",
   "metadata": {},
   "outputs": [],
   "source": [
    "For Loop\n",
    "Assignment Questions"
   ]
  },
  {
   "cell_type": "code",
   "execution_count": null,
   "id": "90e20cac-46e3-48e8-a1ad-f3abb6e2c355",
   "metadata": {},
   "outputs": [],
   "source": [
    "1. Write a Python program to print the numbers from 1 to 10 using a `for` loop."
   ]
  },
  {
   "cell_type": "code",
   "execution_count": 1,
   "id": "10b748b5-4722-427d-a8a8-a1e28c8b24c4",
   "metadata": {},
   "outputs": [
    {
     "name": "stdout",
     "output_type": "stream",
     "text": [
      "1\n",
      "2\n",
      "3\n",
      "4\n",
      "5\n",
      "6\n",
      "7\n",
      "8\n",
      "9\n",
      "10\n"
     ]
    }
   ],
   "source": [
    "for i in range(1, 11):\n",
    "    print(i)"
   ]
  },
  {
   "cell_type": "code",
   "execution_count": null,
   "id": "f09fb4f7-9d71-4555-ab51-58872ebea7e0",
   "metadata": {},
   "outputs": [],
   "source": [
    "2. Create a program that calculates the sum of all numbers in a list using a `for` loop."
   ]
  },
  {
   "cell_type": "code",
   "execution_count": 2,
   "id": "513395ad-3fba-4efd-8ed4-34c53d383037",
   "metadata": {},
   "outputs": [
    {
     "name": "stdout",
     "output_type": "stream",
     "text": [
      "The sum of the numbers is: 15\n"
     ]
    }
   ],
   "source": [
    "# Sample list of numbers\n",
    "numbers = [1, 2, 3, 4, 5]\n",
    "\n",
    "# Initialize a variable to store the sum\n",
    "sum_of_numbers = 0\n",
    "\n",
    "# Use a for loop to iterate through the list and calculate the sum\n",
    "for number in numbers:\n",
    "    sum_of_numbers += number\n",
    "\n",
    "# Print the result\n",
    "print(\"The sum of the numbers is:\", sum_of_numbers)"
   ]
  },
  {
   "cell_type": "code",
   "execution_count": null,
   "id": "9a93e084-2cc8-4b16-b135-5d1f77c7158c",
   "metadata": {},
   "outputs": [],
   "source": [
    "3. Write a program to print the characters of a string in reverse order using a `for` loop."
   ]
  },
  {
   "cell_type": "code",
   "execution_count": 3,
   "id": "55a0fa76-382f-4dcd-998a-8f9f2b029575",
   "metadata": {},
   "outputs": [
    {
     "name": "stdout",
     "output_type": "stream",
     "text": [
      "Reversed string: !dlroW ,olleH\n"
     ]
    }
   ],
   "source": [
    "# Input string\n",
    "input_string = \"Hello, World!\"\n",
    "\n",
    "# Initialize an empty string to store the reversed characters\n",
    "reversed_string = \"\"\n",
    "\n",
    "# Use a for loop to iterate through the string in reverse order\n",
    "for i in range(len(input_string) - 1, -1, -1):\n",
    "    reversed_string += input_string[i]\n",
    "\n",
    "# Print the reversed string\n",
    "print(\"Reversed string:\", reversed_string)"
   ]
  },
  {
   "cell_type": "code",
   "execution_count": null,
   "id": "ba04d9c7-300a-46d3-9787-cda856818159",
   "metadata": {},
   "outputs": [],
   "source": [
    "4. Develop a program that finds the factorial of a given number using a `for` loop."
   ]
  },
  {
   "cell_type": "code",
   "execution_count": 4,
   "id": "356fb6a5-607b-4236-87a6-4631443adc5b",
   "metadata": {},
   "outputs": [
    {
     "name": "stdin",
     "output_type": "stream",
     "text": [
      "Enter a number:  3\n"
     ]
    },
    {
     "name": "stdout",
     "output_type": "stream",
     "text": [
      "The factorial of 3 is: 6\n"
     ]
    }
   ],
   "source": [
    "# Input: Number for which you want to calculate the factorial\n",
    "number = int(input(\"Enter a number: \"))\n",
    "\n",
    "# Initialize the factorial to 1\n",
    "factorial = 1\n",
    "\n",
    "# Use a for loop to calculate the factorial\n",
    "for i in range(1, number + 1):\n",
    "    factorial *= i\n",
    "\n",
    "# Print the factorial\n",
    "print(f\"The factorial of {number} is: {factorial}\")"
   ]
  },
  {
   "cell_type": "code",
   "execution_count": null,
   "id": "9abb65e5-b0b9-4a14-a61e-3409386fa8c1",
   "metadata": {},
   "outputs": [],
   "source": [
    "5. Create a program to print the multiplication table of a given number using a `for` loop."
   ]
  },
  {
   "cell_type": "code",
   "execution_count": 5,
   "id": "5b2652f5-61d1-4f5d-88d6-217086811d35",
   "metadata": {},
   "outputs": [
    {
     "name": "stdin",
     "output_type": "stream",
     "text": [
      "Enter a number:  2\n"
     ]
    },
    {
     "name": "stdout",
     "output_type": "stream",
     "text": [
      "Multiplication table for 2:\n",
      "2 x 1 = 2\n",
      "2 x 2 = 4\n",
      "2 x 3 = 6\n",
      "2 x 4 = 8\n",
      "2 x 5 = 10\n",
      "2 x 6 = 12\n",
      "2 x 7 = 14\n",
      "2 x 8 = 16\n",
      "2 x 9 = 18\n",
      "2 x 10 = 20\n"
     ]
    }
   ],
   "source": [
    "# Input: Number for which you want to print the multiplication table\n",
    "number = int(input(\"Enter a number: \"))\n",
    "\n",
    "# Define the range for the multiplication table (e.g., from 1 to 10)\n",
    "start = 1\n",
    "end = 10\n",
    "\n",
    "# Use a for loop to print the multiplication table\n",
    "print(f\"Multiplication table for {number}:\")\n",
    "\n",
    "for i in range(start, end + 1):\n",
    "    result = number * i\n",
    "    print(f\"{number} x {i} = {result}\")"
   ]
  },
  {
   "cell_type": "code",
   "execution_count": null,
   "id": "0bdca05a-499d-495c-b4cf-1453207f3758",
   "metadata": {},
   "outputs": [],
   "source": [
    "6. Write a program that counts the number of even and odd numbers in a list using a `for` loop."
   ]
  },
  {
   "cell_type": "code",
   "execution_count": 6,
   "id": "d01e95d4-0bae-4e90-98e3-47a09f59c2fc",
   "metadata": {},
   "outputs": [
    {
     "name": "stdout",
     "output_type": "stream",
     "text": [
      "Number of even numbers: 5\n",
      "Number of odd numbers: 5\n"
     ]
    }
   ],
   "source": [
    "# Sample list of numbers\n",
    "numbers = [1, 2, 3, 4, 5, 6, 7, 8, 9, 10]\n",
    "\n",
    "# Initialize variables to count even and odd numbers\n",
    "even_count = 0\n",
    "odd_count = 0\n",
    "\n",
    "# Use a for loop to iterate through the list and count even and odd numbers\n",
    "for number in numbers:\n",
    "    if number % 2 == 0:\n",
    "        even_count += 1\n",
    "    else:\n",
    "        odd_count += 1\n",
    "\n",
    "# Print the results\n",
    "print(\"Number of even numbers:\", even_count)\n",
    "print(\"Number of odd numbers:\", odd_count)"
   ]
  },
  {
   "cell_type": "code",
   "execution_count": null,
   "id": "f78677fe-afe4-4e80-aae8-5e03bffb3c7e",
   "metadata": {},
   "outputs": [],
   "source": [
    "7. Develop a program that prints the squares of numbers from 1 to 5 using a `for` loop."
   ]
  },
  {
   "cell_type": "code",
   "execution_count": 7,
   "id": "aaa27098-6506-43e9-8e33-9998b3104574",
   "metadata": {},
   "outputs": [
    {
     "name": "stdout",
     "output_type": "stream",
     "text": [
      "The square of 1 is 1\n",
      "The square of 2 is 4\n",
      "The square of 3 is 9\n",
      "The square of 4 is 16\n",
      "The square of 5 is 25\n"
     ]
    }
   ],
   "source": [
    "# Use a for loop to print the squares of numbers from 1 to 5\n",
    "for i in range(1, 6):\n",
    "    square = i ** 2\n",
    "    print(f\"The square of {i} is {square}\")"
   ]
  },
  {
   "cell_type": "code",
   "execution_count": null,
   "id": "7fb3674e-e9f7-40b7-8c6e-9c9fbdd38a9e",
   "metadata": {},
   "outputs": [],
   "source": [
    "8. Create a program to find the length of a string without using the `len()` function."
   ]
  },
  {
   "cell_type": "code",
   "execution_count": 8,
   "id": "02af3f8e-47ed-4fa2-bcfa-fd80a84450f3",
   "metadata": {},
   "outputs": [
    {
     "name": "stdout",
     "output_type": "stream",
     "text": [
      "The length of the string is: 13\n"
     ]
    }
   ],
   "source": [
    "# Input string\n",
    "input_string = \"Hello, World!\"\n",
    "\n",
    "# Initialize a variable to count the characters\n",
    "length = 0\n",
    "\n",
    "# Use a for loop to iterate through the string and count the characters\n",
    "for char in input_string:\n",
    "    length += 1\n",
    "\n",
    "# Print the length of the string\n",
    "print(f\"The length of the string is: {length}\")"
   ]
  },
  {
   "cell_type": "code",
   "execution_count": null,
   "id": "2acd49ec-24e4-42ab-9149-a7970da2da99",
   "metadata": {},
   "outputs": [],
   "source": [
    "9. Write a program that calculates the average of a list of numbers using a `for` loop."
   ]
  },
  {
   "cell_type": "code",
   "execution_count": 9,
   "id": "ca22852b-2a3d-4b8a-9b66-410263c86d14",
   "metadata": {},
   "outputs": [
    {
     "name": "stdout",
     "output_type": "stream",
     "text": [
      "The average of the numbers is: 54.0\n"
     ]
    }
   ],
   "source": [
    "# Sample list of numbers\n",
    "numbers = [12, 34, 56, 78, 90]\n",
    "\n",
    "# Initialize variables for the sum and count\n",
    "total = 0\n",
    "count = 0\n",
    "\n",
    "# Use a for loop to calculate the sum and count\n",
    "for number in numbers:\n",
    "    total += number\n",
    "    count += 1\n",
    "\n",
    "# Calculate the average\n",
    "if count > 0:\n",
    "    average = total / count\n",
    "    print(f\"The average of the numbers is: {average}\")\n",
    "else:\n",
    "    print(\"The list is empty, cannot calculate the average.\")"
   ]
  },
  {
   "cell_type": "code",
   "execution_count": null,
   "id": "f1dbec10-3f6f-465a-b4c9-c520ea4841fe",
   "metadata": {},
   "outputs": [],
   "source": [
    "10. Develop a program that prints the first `n` Fibonacci numbers using a `for` loop."
   ]
  },
  {
   "cell_type": "code",
   "execution_count": 10,
   "id": "d16ac572-49b4-4b4f-9522-b3dc74cff6db",
   "metadata": {},
   "outputs": [
    {
     "name": "stdin",
     "output_type": "stream",
     "text": [
      "Enter the number of Fibonacci numbers to generate:  9\n"
     ]
    },
    {
     "name": "stdout",
     "output_type": "stream",
     "text": [
      "The first 9 Fibonacci numbers are:\n",
      "0 1 1 2 3 5 8 13 21 "
     ]
    }
   ],
   "source": [
    "# Input: Number of Fibonacci numbers to generate\n",
    "n = int(input(\"Enter the number of Fibonacci numbers to generate: \"))\n",
    "\n",
    "# Initialize the first two Fibonacci numbers\n",
    "fibonacci_sequence = [0, 1]\n",
    "\n",
    "# Use a for loop to generate the Fibonacci numbers\n",
    "for i in range(2, n):\n",
    "    next_number = fibonacci_sequence[i - 1] + fibonacci_sequence[i - 2]\n",
    "    fibonacci_sequence.append(next_number)\n",
    "\n",
    "# Print the Fibonacci numbers\n",
    "print(\"The first\", n, \"Fibonacci numbers are:\")\n",
    "for number in fibonacci_sequence:\n",
    "    print(number, end=\" \")"
   ]
  },
  {
   "cell_type": "code",
   "execution_count": null,
   "id": "0775908a-f869-4586-911c-f6d64ae3a958",
   "metadata": {},
   "outputs": [],
   "source": [
    "Intermediate Level:"
   ]
  },
  {
   "cell_type": "code",
   "execution_count": null,
   "id": "03fc760f-3441-4a29-8c5e-29641ebf209b",
   "metadata": {},
   "outputs": [],
   "source": [
    "11. Write a program to check if a given list contains any duplicates using a `for` loop."
   ]
  },
  {
   "cell_type": "code",
   "execution_count": 11,
   "id": "99aabee2-ed89-4bdf-bcd0-6cf298fb6484",
   "metadata": {},
   "outputs": [
    {
     "name": "stdout",
     "output_type": "stream",
     "text": [
      "The list contains duplicates.\n"
     ]
    }
   ],
   "source": [
    "# Sample list of numbers\n",
    "my_list = [1, 2, 3, 4, 5, 2, 6]\n",
    "\n",
    "# Initialize a flag to indicate whether duplicates are found\n",
    "has_duplicates = False\n",
    "\n",
    "# Use a for loop to check for duplicates\n",
    "for i in range(len(my_list)):\n",
    "    for j in range(i + 1, len(my_list)):\n",
    "        if my_list[i] == my_list[j]:\n",
    "            has_duplicates = True\n",
    "            break\n",
    "\n",
    "# Print the result\n",
    "if has_duplicates:\n",
    "    print(\"The list contains duplicates.\")\n",
    "else:\n",
    "    print(\"The list does not contain duplicates.\")"
   ]
  },
  {
   "cell_type": "code",
   "execution_count": null,
   "id": "c5ad5a19-92a8-4902-8787-768002f3b0a1",
   "metadata": {},
   "outputs": [],
   "source": [
    "12. Create a program that prints the prime numbers in a given range using a `for` loop."
   ]
  },
  {
   "cell_type": "code",
   "execution_count": 12,
   "id": "55348714-79f0-4850-a5b6-50dccfd7073b",
   "metadata": {},
   "outputs": [
    {
     "name": "stdin",
     "output_type": "stream",
     "text": [
      "Enter the start of the range:  0\n",
      "Enter the end of the range:  14\n"
     ]
    },
    {
     "name": "stdout",
     "output_type": "stream",
     "text": [
      "Prime numbers in the range 0 to 14:\n",
      "2\n",
      "3\n",
      "5\n",
      "7\n",
      "11\n",
      "13\n"
     ]
    }
   ],
   "source": [
    "# Input: Range to find prime numbers (inclusive)\n",
    "start = int(input(\"Enter the start of the range: \"))\n",
    "end = int(input(\"Enter the end of the range: \"))\n",
    "\n",
    "print(f\"Prime numbers in the range {start} to {end}:\")\n",
    "for num in range(start, end + 1):\n",
    "    if num > 1:\n",
    "        is_prime = True\n",
    "        for i in range(2, int(num**0.5) + 1):\n",
    "            if num % i == 0:\n",
    "                is_prime = False\n",
    "                break\n",
    "        if is_prime:\n",
    "            print(num)"
   ]
  },
  {
   "cell_type": "code",
   "execution_count": null,
   "id": "9f47f295-860f-42b1-a1b1-7420332ba4d5",
   "metadata": {},
   "outputs": [],
   "source": [
    "13. Develop a program that counts the number of vowels in a string using a `for` loop."
   ]
  },
  {
   "cell_type": "code",
   "execution_count": 13,
   "id": "d566b5af-81c7-4dc4-896b-cf304bd28a2d",
   "metadata": {},
   "outputs": [
    {
     "name": "stdin",
     "output_type": "stream",
     "text": [
      "Enter a string:  Welcome Sandip\n"
     ]
    },
    {
     "name": "stdout",
     "output_type": "stream",
     "text": [
      "The number of vowels in the string is: 5\n"
     ]
    }
   ],
   "source": [
    "# Input string\n",
    "input_string = input(\"Enter a string: \")\n",
    "\n",
    "# Initialize a variable to count the vowels\n",
    "vowel_count = 0\n",
    "\n",
    "# Define a set of vowels for case-insensitive matching\n",
    "vowels = set(\"aeiouAEIOU\")\n",
    "\n",
    "# Use a for loop to iterate through the characters in the string\n",
    "for char in input_string:\n",
    "    if char in vowels:\n",
    "        vowel_count += 1\n",
    "\n",
    "# Print the result\n",
    "print(\"The number of vowels in the string is:\", vowel_count)"
   ]
  },
  {
   "cell_type": "code",
   "execution_count": null,
   "id": "b380b950-84b8-4d8b-a5fb-ab31acec6264",
   "metadata": {},
   "outputs": [],
   "source": [
    "14. Write a program to find the maximum element in a 2D list using a nested `for` loop."
   ]
  },
  {
   "cell_type": "code",
   "execution_count": 14,
   "id": "1a6b935a-4518-4237-9d83-ec19cd98e652",
   "metadata": {},
   "outputs": [
    {
     "name": "stdout",
     "output_type": "stream",
     "text": [
      "The maximum element in the 2D list is: 9\n"
     ]
    }
   ],
   "source": [
    "# Sample 2D list\n",
    "matrix = [\n",
    "    [3, 5, 1],\n",
    "    [8, 2, 9],\n",
    "    [4, 7, 6]\n",
    "]\n",
    "\n",
    "# Initialize the maximum value to the first element of the list\n",
    "max_value = matrix[0][0]\n",
    "\n",
    "# Use nested for loops to find the maximum element\n",
    "for row in matrix:\n",
    "    for element in row:\n",
    "        if element > max_value:\n",
    "            max_value = element\n",
    "\n",
    "# Print the maximum element\n",
    "print(\"The maximum element in the 2D list is:\", max_value)"
   ]
  },
  {
   "cell_type": "code",
   "execution_count": null,
   "id": "d6fbbdb7-58df-4508-b827-7cd14b408251",
   "metadata": {},
   "outputs": [],
   "source": [
    "15. Create a program that removes all occurrences of a specific element from a list using a `for` loop."
   ]
  },
  {
   "cell_type": "code",
   "execution_count": 15,
   "id": "73cfb15b-678b-497f-8d88-e64fd24bb037",
   "metadata": {},
   "outputs": [
    {
     "name": "stdout",
     "output_type": "stream",
     "text": [
      "Original list: [1, 2, 3, 4, 2, 5, 6, 2, 7]\n",
      "Updated list (after removing 2 ): [1, 3, 4, 5, 6, 7]\n"
     ]
    }
   ],
   "source": [
    "# Sample list\n",
    "my_list = [1, 2, 3, 4, 2, 5, 6, 2, 7]\n",
    "\n",
    "# Element to be removed\n",
    "element_to_remove = 2\n",
    "\n",
    "# Use a for loop to remove all occurrences of the element\n",
    "updated_list = []\n",
    "for item in my_list:\n",
    "    if item != element_to_remove:\n",
    "        updated_list.append(item)\n",
    "\n",
    "# Print the updated list\n",
    "print(\"Original list:\", my_list)\n",
    "print(\"Updated list (after removing\", element_to_remove, \"):\", updated_list)"
   ]
  },
  {
   "cell_type": "code",
   "execution_count": null,
   "id": "ea8a7444-a976-45e1-9f89-5e5949a42f66",
   "metadata": {},
   "outputs": [],
   "source": [
    "16. Develop a program that generates a multiplication table for numbers from 1 to 5 using a nested `for` loop."
   ]
  },
  {
   "cell_type": "code",
   "execution_count": 16,
   "id": "911eed32-c361-4d57-b653-9370708170ad",
   "metadata": {},
   "outputs": [
    {
     "name": "stdout",
     "output_type": "stream",
     "text": [
      "Multiplication table for 1:\n",
      "1 x 1 = 1\n",
      "1 x 2 = 2\n",
      "1 x 3 = 3\n",
      "1 x 4 = 4\n",
      "1 x 5 = 5\n",
      "1 x 6 = 6\n",
      "1 x 7 = 7\n",
      "1 x 8 = 8\n",
      "1 x 9 = 9\n",
      "1 x 10 = 10\n",
      "\n",
      "Multiplication table for 2:\n",
      "2 x 1 = 2\n",
      "2 x 2 = 4\n",
      "2 x 3 = 6\n",
      "2 x 4 = 8\n",
      "2 x 5 = 10\n",
      "2 x 6 = 12\n",
      "2 x 7 = 14\n",
      "2 x 8 = 16\n",
      "2 x 9 = 18\n",
      "2 x 10 = 20\n",
      "\n",
      "Multiplication table for 3:\n",
      "3 x 1 = 3\n",
      "3 x 2 = 6\n",
      "3 x 3 = 9\n",
      "3 x 4 = 12\n",
      "3 x 5 = 15\n",
      "3 x 6 = 18\n",
      "3 x 7 = 21\n",
      "3 x 8 = 24\n",
      "3 x 9 = 27\n",
      "3 x 10 = 30\n",
      "\n",
      "Multiplication table for 4:\n",
      "4 x 1 = 4\n",
      "4 x 2 = 8\n",
      "4 x 3 = 12\n",
      "4 x 4 = 16\n",
      "4 x 5 = 20\n",
      "4 x 6 = 24\n",
      "4 x 7 = 28\n",
      "4 x 8 = 32\n",
      "4 x 9 = 36\n",
      "4 x 10 = 40\n",
      "\n",
      "Multiplication table for 5:\n",
      "5 x 1 = 5\n",
      "5 x 2 = 10\n",
      "5 x 3 = 15\n",
      "5 x 4 = 20\n",
      "5 x 5 = 25\n",
      "5 x 6 = 30\n",
      "5 x 7 = 35\n",
      "5 x 8 = 40\n",
      "5 x 9 = 45\n",
      "5 x 10 = 50\n",
      "\n"
     ]
    }
   ],
   "source": [
    "# Define the range of numbers for the multiplication table\n",
    "start = 1\n",
    "end = 5\n",
    "\n",
    "# Use nested for loops to generate the multiplication table\n",
    "for i in range(start, end + 1):\n",
    "    print(f\"Multiplication table for {i}:\")\n",
    "    for j in range(1, 11):  # Multiplication table from 1 to 10\n",
    "        result = i * j\n",
    "        print(f\"{i} x {j} = {result}\")\n",
    "    print()  # Print an empty line to separate tables"
   ]
  },
  {
   "cell_type": "code",
   "execution_count": null,
   "id": "8213465e-7543-43a2-81ec-b190ff7d5096",
   "metadata": {},
   "outputs": [],
   "source": [
    "17. Write a program that converts a list of Fahrenheit temperatures to Celsius using a `for` loop."
   ]
  },
  {
   "cell_type": "code",
   "execution_count": 17,
   "id": "37cb14cc-293b-4e20-82d6-d3fd07ab77d8",
   "metadata": {},
   "outputs": [
    {
     "name": "stdout",
     "output_type": "stream",
     "text": [
      "Fahrenheit Temperatures: [32, 68, 86, 104, 122]\n",
      "Celsius Temperatures: [0.0, 20.0, 30.0, 40.0, 50.0]\n"
     ]
    }
   ],
   "source": [
    "# Sample list of Fahrenheit temperatures\n",
    "fahrenheit_temperatures = [32, 68, 86, 104, 122]\n",
    "\n",
    "# Create an empty list to store the Celsius temperatures\n",
    "celsius_temperatures = []\n",
    "\n",
    "# Use a for loop to convert Fahrenheit to Celsius and populate the new list\n",
    "for fahrenheit in fahrenheit_temperatures:\n",
    "    celsius = (fahrenheit - 32) * 5/9\n",
    "    celsius_temperatures.append(celsius)\n",
    "\n",
    "# Print the results\n",
    "print(\"Fahrenheit Temperatures:\", fahrenheit_temperatures)\n",
    "print(\"Celsius Temperatures:\", celsius_temperatures)"
   ]
  },
  {
   "cell_type": "code",
   "execution_count": null,
   "id": "5cd3c437-f72a-491c-95c2-79c5271cd05a",
   "metadata": {},
   "outputs": [],
   "source": [
    "18. Create a program to print the common elements from two lists using a `for` loop."
   ]
  },
  {
   "cell_type": "code",
   "execution_count": 18,
   "id": "446f7bed-68e3-44ef-97da-bfec310dc79a",
   "metadata": {},
   "outputs": [
    {
     "name": "stdout",
     "output_type": "stream",
     "text": [
      "Common elements between list1 and list2: [3, 4, 5]\n"
     ]
    }
   ],
   "source": [
    "# Sample lists\n",
    "list1 = [1, 2, 3, 4, 5]\n",
    "list2 = [3, 4, 5, 6, 7]\n",
    "\n",
    "# Initialize an empty list to store the common elements\n",
    "common_elements = []\n",
    "\n",
    "# Use a nested for loop to find and add common elements\n",
    "for item1 in list1:\n",
    "    for item2 in list2:\n",
    "        if item1 == item2:\n",
    "            common_elements.append(item1)\n",
    "\n",
    "# Print the common elements\n",
    "print(\"Common elements between list1 and list2:\", common_elements)"
   ]
  },
  {
   "cell_type": "code",
   "execution_count": null,
   "id": "fa8935a6-8cbc-4d63-8fee-ecb8d919d538",
   "metadata": {},
   "outputs": [],
   "source": [
    "19. Develop a program that prints the pattern of right-angled triangles using a `for` loop. Use ‘*’ to draw the pattern."
   ]
  },
  {
   "cell_type": "code",
   "execution_count": 19,
   "id": "28376b35-cac0-4447-8225-25becc8222b8",
   "metadata": {},
   "outputs": [
    {
     "name": "stdin",
     "output_type": "stream",
     "text": [
      "Enter the number of rows:  5\n"
     ]
    },
    {
     "name": "stdout",
     "output_type": "stream",
     "text": [
      "*\n",
      "**\n",
      "***\n",
      "****\n",
      "*****\n"
     ]
    }
   ],
   "source": [
    "# Input: Number of rows for the pattern\n",
    "n = int(input(\"Enter the number of rows: \"))\n",
    "\n",
    "# Use a for loop to print the right-angled triangle pattern\n",
    "for i in range(1, n + 1):\n",
    "    for j in range(i):\n",
    "        print('*', end='')\n",
    "    print()"
   ]
  },
  {
   "cell_type": "code",
   "execution_count": null,
   "id": "80740807-8687-4e0a-b8dc-fb5a187e90de",
   "metadata": {},
   "outputs": [],
   "source": [
    "20. Write a program to find the greatest common divisor (GCD) of two numbers using a `for` loop."
   ]
  },
  {
   "cell_type": "code",
   "execution_count": 20,
   "id": "16dd10e1-41f5-4822-820f-c6b779fe5fe8",
   "metadata": {},
   "outputs": [
    {
     "name": "stdin",
     "output_type": "stream",
     "text": [
      "Enter the first number:  16\n",
      "Enter the second number:  24\n"
     ]
    },
    {
     "name": "stdout",
     "output_type": "stream",
     "text": [
      "The Greatest Common Divisor (GCD) of 16 and 24 is: 8\n"
     ]
    }
   ],
   "source": [
    "# Input: Two numbers for which you want to find the GCD\n",
    "num1 = int(input(\"Enter the first number: \"))\n",
    "num2 = int(input(\"Enter the second number: \"))\n",
    "\n",
    "# Determine the smaller of the two numbers\n",
    "if num1 < num2:\n",
    "    smaller = num1\n",
    "else:\n",
    "    smaller = num2\n",
    "\n",
    "# Initialize a variable to store the GCD\n",
    "gcd = 1\n",
    "\n",
    "# Use a for loop to find the GCD\n",
    "for i in range(1, smaller + 1):\n",
    "    if num1 % i == 0 and num2 % i == 0:\n",
    "        gcd = i\n",
    "\n",
    "# Print the GCD\n",
    "print(\"The Greatest Common Divisor (GCD) of\", num1, \"and\", num2, \"is:\", gcd)"
   ]
  },
  {
   "cell_type": "code",
   "execution_count": null,
   "id": "189bd8e7-6e2a-41cb-8aad-16a0aea6b55e",
   "metadata": {},
   "outputs": [],
   "source": [
    "Advanced Level:"
   ]
  },
  {
   "cell_type": "code",
   "execution_count": null,
   "id": "f8d00b95-9a79-4387-8ff0-0ce94b054f9f",
   "metadata": {},
   "outputs": [],
   "source": [
    "21. Create a program that calculates the sum of the digits of numbers in a list using a list comprehension."
   ]
  },
  {
   "cell_type": "code",
   "execution_count": 21,
   "id": "d9e616e1-47b9-48b5-9fb3-4d71cddad828",
   "metadata": {},
   "outputs": [
    {
     "name": "stdout",
     "output_type": "stream",
     "text": [
      "Original numbers: [123, 45, 6789, 12, 9]\n",
      "Sums of digits: [6, 9, 30, 3, 9]\n"
     ]
    }
   ],
   "source": [
    "# Sample list of numbers\n",
    "numbers = [123, 45, 6789, 12, 9]\n",
    "\n",
    "# Define a function to calculate the sum of digits for a single number\n",
    "def sum_of_digits(number):\n",
    "    return sum(int(digit) for digit in str(number))\n",
    "\n",
    "# Use list comprehension to calculate the sum of digits for each number\n",
    "sums_of_digits = [sum_of_digits(number) for number in numbers]\n",
    "\n",
    "# Print the results\n",
    "print(\"Original numbers:\", numbers)\n",
    "print(\"Sums of digits:\", sums_of_digits)"
   ]
  },
  {
   "cell_type": "code",
   "execution_count": null,
   "id": "1a348039-9b01-4ce8-849a-5eaf965e719a",
   "metadata": {},
   "outputs": [],
   "source": [
    "22. Write a program to find the prime factors of a given number using a `for` loop and list comprehension."
   ]
  },
  {
   "cell_type": "code",
   "execution_count": 1,
   "id": "c63b8ce6-ba34-4c0d-82bc-2fe2524c9d0c",
   "metadata": {},
   "outputs": [
    {
     "name": "stdin",
     "output_type": "stream",
     "text": [
      "Enter a number:  49\n"
     ]
    },
    {
     "name": "stdout",
     "output_type": "stream",
     "text": [
      "Prime factors of 49 are: [7, 7]\n"
     ]
    }
   ],
   "source": [
    "# Function to find prime factors of a number\n",
    "def prime_factors(number):\n",
    "    factors = []\n",
    "    divisor = 2\n",
    "    while number > 1:\n",
    "        while number % divisor == 0:\n",
    "            factors.append(divisor)\n",
    "            number //= divisor\n",
    "        divisor += 1\n",
    "    return factors\n",
    "\n",
    "# Input: Number for which you want to find the prime factors\n",
    "number = int(input(\"Enter a number: \"))\n",
    "\n",
    "# Calculate and print the prime factors\n",
    "factors = prime_factors(number)\n",
    "print(f\"Prime factors of {number} are:\", factors)"
   ]
  },
  {
   "cell_type": "code",
   "execution_count": null,
   "id": "c13960f5-582e-4595-ad12-a0a19875c0c8",
   "metadata": {},
   "outputs": [],
   "source": [
    "23. Develop a program that extracts unique elements from a list and stores them in a new list using a list comprehension."
   ]
  },
  {
   "cell_type": "code",
   "execution_count": 2,
   "id": "c7180122-ffc6-457f-a77b-cef5072a6729",
   "metadata": {},
   "outputs": [
    {
     "name": "stdout",
     "output_type": "stream",
     "text": [
      "[1, 2, 3, 4, 5, 6, 7]\n"
     ]
    }
   ],
   "source": [
    "# Sample list with duplicate elements\n",
    "input_list = [1, 2, 2, 3, 4, 4, 5, 6, 6, 7]\n",
    "\n",
    "# Use a list comprehension to extract unique elements\n",
    "unique_list = [x for i, x in enumerate(input_list) if x not in input_list[:i]]\n",
    "\n",
    "# Print the unique elements\n",
    "print(unique_list)"
   ]
  },
  {
   "cell_type": "code",
   "execution_count": null,
   "id": "12ffba33-354e-4e85-ac57-15dbabdb2433",
   "metadata": {},
   "outputs": [],
   "source": [
    "24. Create a program that generates a list of all palindromic numbers up to a specified limit using a list comprehension."
   ]
  },
  {
   "cell_type": "code",
   "execution_count": 3,
   "id": "f516cf56-9265-4413-bb6d-71b840a320a3",
   "metadata": {},
   "outputs": [
    {
     "name": "stdin",
     "output_type": "stream",
     "text": [
      "Enter the limit:  25\n"
     ]
    },
    {
     "name": "stdout",
     "output_type": "stream",
     "text": [
      "Palindromic numbers up to 25 are: [0, 1, 2, 3, 4, 5, 6, 7, 8, 9, 11, 22]\n"
     ]
    }
   ],
   "source": [
    "# Function to check if a number is a palindrome\n",
    "def is_palindrome(n):\n",
    "    return str(n) == str(n)[::-1]\n",
    "\n",
    "# Generate a list of palindromic numbers up to a specified limit\n",
    "def generate_palindromes(limit):\n",
    "    return [num for num in range(limit) if is_palindrome(num)]\n",
    "\n",
    "# Get user input for the limit\n",
    "limit = int(input(\"Enter the limit: \"))\n",
    "\n",
    "# Generate and print the list of palindromic numbers up to the specified limit\n",
    "palindromes_list = generate_palindromes(limit)\n",
    "print(\"Palindromic numbers up to\", limit, \"are:\", palindromes_list)"
   ]
  },
  {
   "cell_type": "code",
   "execution_count": null,
   "id": "10ef7551-bea9-49ba-9cef-b2eb60124cf4",
   "metadata": {},
   "outputs": [],
   "source": [
    "25. Write a program to flatten a nested list using list comprehension."
   ]
  },
  {
   "cell_type": "code",
   "execution_count": 4,
   "id": "a9a35411-5f46-46a9-ab9a-d307b6730de2",
   "metadata": {},
   "outputs": [
    {
     "name": "stdout",
     "output_type": "stream",
     "text": [
      "[1, 2, 3, 4, 5, 6, 7, 8]\n"
     ]
    }
   ],
   "source": [
    "# Sample nested list\n",
    "nested_list = [[1, 2, 3], [4, 5], [6, 7, 8]]\n",
    "\n",
    "# Flatten the nested list using list comprehension\n",
    "flattened_list = [item for sublist in nested_list for item in sublist]\n",
    "\n",
    "# Print the flattened list\n",
    "print(flattened_list)"
   ]
  },
  {
   "cell_type": "code",
   "execution_count": null,
   "id": "6ce05592-6026-4847-8a20-956ecb8716b2",
   "metadata": {},
   "outputs": [],
   "source": [
    "26. Develop a program that computes the sum of even and odd numbers in a list separately using list comprehension."
   ]
  },
  {
   "cell_type": "code",
   "execution_count": 5,
   "id": "27e2d3bc-4dca-4c12-9d13-86dbef87c22a",
   "metadata": {},
   "outputs": [
    {
     "name": "stdout",
     "output_type": "stream",
     "text": [
      "Sum of even numbers: 30\n",
      "Sum of odd numbers: 25\n"
     ]
    }
   ],
   "source": [
    "# Sample list of numbers\n",
    "numbers = [1, 2, 3, 4, 5, 6, 7, 8, 9, 10]\n",
    "\n",
    "# Use list comprehensions to compute the sum of even and odd numbers separately\n",
    "even_sum = sum([x for x in numbers if x % 2 == 0])\n",
    "odd_sum = sum([x for x in numbers if x % 2 != 0])\n",
    "\n",
    "# Print the sums\n",
    "print(\"Sum of even numbers:\", even_sum)\n",
    "print(\"Sum of odd numbers:\", odd_sum)"
   ]
  },
  {
   "cell_type": "code",
   "execution_count": null,
   "id": "11d2c25c-b8f2-45a4-9d7c-3e33fae9b91d",
   "metadata": {},
   "outputs": [],
   "source": [
    "27. Create a program that generates a list of squares of odd numbers between 1 and 10 using list comprehension."
   ]
  },
  {
   "cell_type": "code",
   "execution_count": 6,
   "id": "2d9c3f3c-6aba-4290-bd6f-9405dafd76c5",
   "metadata": {},
   "outputs": [
    {
     "name": "stdout",
     "output_type": "stream",
     "text": [
      "[1, 9, 25, 49, 81]\n"
     ]
    }
   ],
   "source": [
    "# Use list comprehension to generate a list of squares of odd numbers between 1 and 10\n",
    "squares_of_odd_numbers = [x ** 2 for x in range(1, 11) if x % 2 != 0]\n",
    "\n",
    "# Print the list of squares of odd numbers\n",
    "print(squares_of_odd_numbers)"
   ]
  },
  {
   "cell_type": "code",
   "execution_count": null,
   "id": "a5be06e5-9a01-4b0c-a4a3-d629aa3ff387",
   "metadata": {},
   "outputs": [],
   "source": [
    "28. Write a program that combines two lists into a dictionary using list comprehension."
   ]
  },
  {
   "cell_type": "code",
   "execution_count": 7,
   "id": "cec86831-fa8b-4f55-80b5-d2c8e36e0bb4",
   "metadata": {},
   "outputs": [
    {
     "name": "stdout",
     "output_type": "stream",
     "text": [
      "{'a': 1, 'b': 2, 'c': 3}\n"
     ]
    }
   ],
   "source": [
    "# Sample lists for keys and values\n",
    "keys = ['a', 'b', 'c']\n",
    "values = [1, 2, 3]\n",
    "\n",
    "# Use a dictionary comprehension to combine the lists into a dictionary\n",
    "combined_dict = {k: v for k, v in zip(keys, values)}\n",
    "\n",
    "# Print the resulting dictionary\n",
    "print(combined_dict)"
   ]
  },
  {
   "cell_type": "code",
   "execution_count": null,
   "id": "19402492-48e2-45cb-aec2-ad6e06806c37",
   "metadata": {},
   "outputs": [],
   "source": [
    "29. Develop a program that extracts the vowels from a string and stores them in a list using list comprehension."
   ]
  },
  {
   "cell_type": "code",
   "execution_count": 8,
   "id": "69cc89e0-7eec-4c16-b524-ca0a9e1fd675",
   "metadata": {},
   "outputs": [
    {
     "name": "stdout",
     "output_type": "stream",
     "text": [
      "['e', 'o', 'o']\n"
     ]
    }
   ],
   "source": [
    "# Sample string\n",
    "input_string = \"Hello, World!\"\n",
    "\n",
    "# Convert the string to lowercase to handle both uppercase and lowercase vowels\n",
    "input_string = input_string.lower()\n",
    "\n",
    "# Use a list comprehension to extract the vowels\n",
    "vowels = [char for char in input_string if char in \"aeiou\"]\n",
    "\n",
    "# Print the list of vowels\n",
    "print(vowels)"
   ]
  },
  {
   "cell_type": "code",
   "execution_count": null,
   "id": "3595baeb-faac-4805-b23a-ed295803f46b",
   "metadata": {},
   "outputs": [],
   "source": [
    "30. Create a program that removes all non-numeric characters from a list of strings using list comprehension."
   ]
  },
  {
   "cell_type": "code",
   "execution_count": 9,
   "id": "e7006727-bfbe-413b-9f59-2a9db4d9e1eb",
   "metadata": {},
   "outputs": [
    {
     "name": "stdout",
     "output_type": "stream",
     "text": [
      "['123', '456', '789']\n"
     ]
    }
   ],
   "source": [
    "# Sample list of strings\n",
    "string_list = [\"abc123\", \"456def\", \"789_!@\"]\n",
    "\n",
    "# Use a list comprehension to remove non-numeric characters from each string\n",
    "numeric_strings = [''.join(c for c in s if c.isdigit()) for s in string_list]\n",
    "\n",
    "# Print the list of strings with non-numeric characters removed\n",
    "print(numeric_strings)"
   ]
  },
  {
   "cell_type": "code",
   "execution_count": null,
   "id": "6ebfdaa7-f8e5-48d8-927f-567b72893d6e",
   "metadata": {},
   "outputs": [],
   "source": [
    "Challenge Level:"
   ]
  },
  {
   "cell_type": "code",
   "execution_count": null,
   "id": "d4a5612c-5d39-40cc-a936-46900f50b6a5",
   "metadata": {},
   "outputs": [],
   "source": [
    "31. Write a program to generate a list of prime numbers using the Sieve of Eratosthenes algorithm and list comprehension."
   ]
  },
  {
   "cell_type": "code",
   "execution_count": 10,
   "id": "b26bb4fc-ebb9-4092-9b1f-30d1aa172819",
   "metadata": {},
   "outputs": [
    {
     "name": "stdout",
     "output_type": "stream",
     "text": [
      "[2, 3, 5, 7, 11, 13, 17, 19, 23, 29, 31, 37, 41, 43, 47]\n"
     ]
    }
   ],
   "source": [
    "# Specify the limit to find prime numbers up to that limit\n",
    "limit = 50\n",
    "\n",
    "# List comprehension to generate prime numbers\n",
    "prime_numbers = [num for num in range(2, limit + 1) if all(num % i != 0 for i in range(2, int(num ** 0.5) + 1))]\n",
    "\n",
    "# Print the list of prime numbers\n",
    "print(prime_numbers)"
   ]
  },
  {
   "cell_type": "code",
   "execution_count": null,
   "id": "6732101b-1e06-4e04-921f-fb1174a7e216",
   "metadata": {},
   "outputs": [],
   "source": [
    "32. Create a program that generates a list of all Pythagorean triplets up to a specified limit using list comprehension."
   ]
  },
  {
   "cell_type": "code",
   "execution_count": 11,
   "id": "7b780a85-d75f-46a6-9074-a3b5712a1c19",
   "metadata": {},
   "outputs": [
    {
     "name": "stdout",
     "output_type": "stream",
     "text": [
      "[(3, 4, 5), (6, 8, 10), (5, 12, 13), (9, 12, 15), (8, 15, 17), (12, 16, 20)]\n"
     ]
    }
   ],
   "source": [
    "# Specify the limit to find Pythagorean triplets up to that limit\n",
    "limit = 20\n",
    "\n",
    "# Use list comprehension to generate a list of Pythagorean triplets\n",
    "pythagorean_triplets = [(a, b, c) for c in range(1, limit + 1) for b in range(1, c) for a in range(1, b) if a**2 + b**2 == c**2]\n",
    "\n",
    "# Print the list of Pythagorean triplets\n",
    "print(pythagorean_triplets)"
   ]
  },
  {
   "cell_type": "code",
   "execution_count": null,
   "id": "ea898a32-df3a-4f76-bc3e-15425a695517",
   "metadata": {},
   "outputs": [],
   "source": [
    "33. Develop a program that generates a list of all possible combinations of two lists using list comprehension."
   ]
  },
  {
   "cell_type": "code",
   "execution_count": 12,
   "id": "be588d78-cf3c-419b-b8d6-44f99ab73e34",
   "metadata": {},
   "outputs": [
    {
     "name": "stdout",
     "output_type": "stream",
     "text": [
      "[(1, 'a'), (1, 'b'), (1, 'c'), (2, 'a'), (2, 'b'), (2, 'c'), (3, 'a'), (3, 'b'), (3, 'c')]\n"
     ]
    }
   ],
   "source": [
    "# Sample lists\n",
    "list1 = [1, 2, 3]\n",
    "list2 = ['a', 'b', 'c']\n",
    "\n",
    "# Use list comprehension to generate all possible combinations of the two lists\n",
    "combinations = [(x, y) for x in list1 for y in list2]\n",
    "\n",
    "# Print the list of combinations\n",
    "print(combinations)"
   ]
  },
  {
   "cell_type": "code",
   "execution_count": null,
   "id": "30f709a2-3e0d-46cd-859d-d8b579a98774",
   "metadata": {},
   "outputs": [],
   "source": [
    "34. Write a program that calculates the mean, median, and mode of a list of numbers using list comprehension."
   ]
  },
  {
   "cell_type": "code",
   "execution_count": 13,
   "id": "bac97c77-f1e3-4926-9e36-6b139305ee35",
   "metadata": {},
   "outputs": [
    {
     "name": "stdout",
     "output_type": "stream",
     "text": [
      "Mean: 3.5\n",
      "Median: 3.5\n",
      "Mode: [4, 3]\n"
     ]
    }
   ],
   "source": [
    "from collections import Counter\n",
    "\n",
    "# Sample list of numbers\n",
    "numbers = [4, 2, 4, 1, 3, 5, 6, 3, 4, 3]\n",
    "\n",
    "# Calculate the mean using list comprehension\n",
    "mean = sum(numbers) / len(numbers)\n",
    "\n",
    "# Calculate the median using list comprehension\n",
    "sorted_numbers = sorted(numbers)\n",
    "n = len(sorted_numbers)\n",
    "median = (sorted_numbers[n // 2] + sorted_numbers[n // 2 - 1]) / 2 if n % 2 == 0 else sorted_numbers[n // 2]\n",
    "\n",
    "# Calculate the mode using list comprehension\n",
    "count_dict = Counter(numbers)\n",
    "max_count = max(count_dict.values())\n",
    "mode = [num for num, count in count_dict.items() if count == max_count]\n",
    "\n",
    "# Print the results\n",
    "print(\"Mean:\", mean)\n",
    "print(\"Median:\", median)\n",
    "print(\"Mode:\", mode)"
   ]
  },
  {
   "cell_type": "code",
   "execution_count": null,
   "id": "7675da7e-6586-4fb5-b2cd-04a98f8c642e",
   "metadata": {},
   "outputs": [],
   "source": [
    "35. Create a program that generates Pascal's triangle up to a specified number of rows using list comprehension."
   ]
  },
  {
   "cell_type": "code",
   "execution_count": 14,
   "id": "8b7e8aec-8a74-4c63-a08c-9de33c349758",
   "metadata": {},
   "outputs": [
    {
     "name": "stdout",
     "output_type": "stream",
     "text": [
      "[1]\n",
      "[1, 1]\n",
      "[1, 2, 1]\n",
      "[1, 3, 3, 1]\n",
      "[1, 4, 6, 4, 1]\n"
     ]
    }
   ],
   "source": [
    "# Function to generate Pascal's triangle\n",
    "def generate_pascals_triangle(num_rows):\n",
    "    if num_rows <= 0:\n",
    "        return []\n",
    "\n",
    "    # Initialize the first row of Pascal's triangle\n",
    "    triangle = [[1]]\n",
    "\n",
    "    # Generate the rest of the rows using list comprehension\n",
    "    for i in range(1, num_rows):\n",
    "        prev_row = triangle[-1]\n",
    "        new_row = [1] + [prev_row[j - 1] + prev_row[j] for j in range(1, i)] + [1]\n",
    "        triangle.append(new_row)\n",
    "\n",
    "    return triangle\n",
    "\n",
    "# Specify the number of rows for Pascal's triangle\n",
    "num_rows = 5\n",
    "\n",
    "# Generate Pascal's triangle up to the specified number of rows\n",
    "pascals_triangle = generate_pascals_triangle(num_rows)\n",
    "\n",
    "# Print Pascal's triangle\n",
    "for row in pascals_triangle:\n",
    "    print(row)"
   ]
  },
  {
   "cell_type": "code",
   "execution_count": null,
   "id": "1bdfb434-9ead-4da0-ae8e-ec2e648ef43e",
   "metadata": {},
   "outputs": [],
   "source": [
    "36. Develop a program that calculates the sum of the digits of a factorial of numbers from 1 to 5 using list comprehension. "
   ]
  },
  {
   "cell_type": "code",
   "execution_count": 15,
   "id": "af34d559-dfce-4a06-83e4-e03f2609b0b9",
   "metadata": {},
   "outputs": [
    {
     "name": "stdout",
     "output_type": "stream",
     "text": [
      "Sum of digits of 1!: 1\n",
      "Sum of digits of 2!: 2\n",
      "Sum of digits of 3!: 6\n",
      "Sum of digits of 4!: 6\n",
      "Sum of digits of 5!: 3\n"
     ]
    }
   ],
   "source": [
    "# Function to calculate the factorial of a number\n",
    "def factorial(n):\n",
    "    if n == 0:\n",
    "        return 1\n",
    "    else:\n",
    "        return n * factorial(n - 1)\n",
    "\n",
    "# Calculate the sum of digits of factorial for numbers from 1 to 5 using list comprehension\n",
    "factorial_sums = [sum(int(digit) for digit in str(factorial(n))) for n in range(1, 6)]\n",
    "\n",
    "# Print the list of sums\n",
    "for n, factorial_sum in enumerate(factorial_sums, start=1):\n",
    "    print(f\"Sum of digits of {n}!: {factorial_sum}\")"
   ]
  },
  {
   "cell_type": "code",
   "execution_count": null,
   "id": "6106c08a-5f5d-42df-b1f5-0c9fc1f7b863",
   "metadata": {},
   "outputs": [],
   "source": [
    "37. Write a program that finds the longest word in a sentence using list comprehension."
   ]
  },
  {
   "cell_type": "code",
   "execution_count": 16,
   "id": "a5144317-6867-491f-8aec-29b8556c935f",
   "metadata": {},
   "outputs": [
    {
     "name": "stdout",
     "output_type": "stream",
     "text": [
      "Longest word in the sentence: sentence\n"
     ]
    }
   ],
   "source": [
    "# Input sentence\n",
    "sentence = \"This is a sample sentence with several words of varying lengths.\"\n",
    "\n",
    "# Split the sentence into words using whitespace as the delimiter\n",
    "words = sentence.split()\n",
    "\n",
    "# Find the longest word using list comprehension\n",
    "longest_word = max(words, key=len)\n",
    "\n",
    "# Print the longest word\n",
    "print(\"Longest word in the sentence:\", longest_word)"
   ]
  },
  {
   "cell_type": "code",
   "execution_count": null,
   "id": "517be475-5f4b-49e3-a99d-28e8c3e823a2",
   "metadata": {},
   "outputs": [],
   "source": [
    "38. Create a program that filters a list of strings to include only those with more than three vowels using list comprehension\n"
   ]
  },
  {
   "cell_type": "code",
   "execution_count": 17,
   "id": "75264ea8-c459-4ba8-89aa-1ed80f9550d1",
   "metadata": {},
   "outputs": [
    {
     "name": "stdout",
     "output_type": "stream",
     "text": [
      "['openai']\n"
     ]
    }
   ],
   "source": [
    "# Sample list of strings\n",
    "string_list = [\"hello\", \"world\", \"programming\", \"python\", \"openai\"]\n",
    "\n",
    "# Function to count vowels in a string\n",
    "def count_vowels(string):\n",
    "    vowels = \"AEIOUaeiou\"\n",
    "    return sum(1 for char in string if char in vowels)\n",
    "\n",
    "# Use list comprehension to filter strings with more than three vowels\n",
    "filtered_strings = [s for s in string_list if count_vowels(s) > 3]\n",
    "\n",
    "# Print the filtered list of strings\n",
    "print(filtered_strings)"
   ]
  },
  {
   "cell_type": "code",
   "execution_count": null,
   "id": "bcb35c12-07c4-4b01-b2c3-df2c05aa550c",
   "metadata": {},
   "outputs": [],
   "source": [
    "39. Develop a program that calculates the sum of the digits of numbers from 1 to 1000 using list comprehension."
   ]
  },
  {
   "cell_type": "code",
   "execution_count": 18,
   "id": "88a1d950-ca49-4f9a-b22a-1757cc6b4b21",
   "metadata": {},
   "outputs": [
    {
     "name": "stdout",
     "output_type": "stream",
     "text": [
      "Total sum of digits for numbers from 1 to 1000: 13501\n"
     ]
    }
   ],
   "source": [
    "# Use list comprehension to calculate the sum of digits for numbers from 1 to 1000\n",
    "digit_sums = [sum(int(digit) for digit in str(num)) for num in range(1, 1001)]\n",
    "\n",
    "# Calculate the total sum of digit sums\n",
    "total_sum = sum(digit_sums)\n",
    "\n",
    "# Print the total sum\n",
    "print(\"Total sum of digits for numbers from 1 to 1000:\", total_sum)"
   ]
  },
  {
   "cell_type": "code",
   "execution_count": null,
   "id": "06774c3b-b883-4927-ae55-881a5b72c0ef",
   "metadata": {},
   "outputs": [],
   "source": [
    "40. Write a program that generates a list of prime palindromic numbers using list comprehension."
   ]
  },
  {
   "cell_type": "code",
   "execution_count": 19,
   "id": "c83a71d4-9ca4-4410-b43f-06c96aa3297d",
   "metadata": {},
   "outputs": [
    {
     "name": "stdout",
     "output_type": "stream",
     "text": [
      "[2, 3, 5, 7, 11, 101, 131, 151, 181, 191, 313, 353, 373, 383, 727, 757, 787, 797, 919, 929]\n"
     ]
    }
   ],
   "source": [
    "# Function to check if a number is prime\n",
    "def is_prime(num):\n",
    "    if num < 2:\n",
    "        return False\n",
    "    for i in range(2, int(num**0.5) + 1):\n",
    "        if num % i == 0:\n",
    "            return False\n",
    "    return True\n",
    "\n",
    "# Use list comprehension to generate a list of prime palindromic numbers\n",
    "prime_palindromic_numbers = [num for num in range(1, 1000) if is_prime(num) and str(num) == str(num)[::-1]]\n",
    "\n",
    "# Print the list of prime palindromic numbers\n",
    "print(prime_palindromic_numbers)"
   ]
  }
 ],
 "metadata": {
  "kernelspec": {
   "display_name": "Python 3 (ipykernel)",
   "language": "python",
   "name": "python3"
  },
  "language_info": {
   "codemirror_mode": {
    "name": "ipython",
    "version": 3
   },
   "file_extension": ".py",
   "mimetype": "text/x-python",
   "name": "python",
   "nbconvert_exporter": "python",
   "pygments_lexer": "ipython3",
   "version": "3.10.8"
  }
 },
 "nbformat": 4,
 "nbformat_minor": 5
}
